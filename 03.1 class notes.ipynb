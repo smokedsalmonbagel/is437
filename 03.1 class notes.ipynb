{
 "cells": [
  {
   "cell_type": "code",
   "execution_count": null,
   "metadata": {},
   "outputs": [],
   "source": [
    "'''\n",
    "Lecture:\n",
    "    -Classes in real life (why classes can be difficult to build)\n",
    "    -why do we build classes\n",
    "        -reuse code / maintaining code\n",
    "        -encapsulating code\n",
    "        -testing\n",
    "        -collaboration on team projects\n",
    "\n",
    "'''"
   ]
  },
  {
   "cell_type": "code",
   "execution_count": null,
   "metadata": {},
   "outputs": [],
   "source": []
  },
  {
   "cell_type": "code",
   "execution_count": null,
   "metadata": {},
   "outputs": [],
   "source": [
    "'''\n",
    "Live Session:\n",
    "Build a class def for an airline flight class.  The class will be used to track a flight live.\n",
    "    -what properties and methods should it have\n",
    "    -how will it be used?\n",
    "    -write some unit tests / insitu tests\n",
    "\n",
    "'''"
   ]
  },
  {
   "cell_type": "code",
   "execution_count": null,
   "metadata": {},
   "outputs": [],
   "source": []
  },
  {
   "cell_type": "code",
   "execution_count": null,
   "metadata": {},
   "outputs": [],
   "source": [
    "'''\n",
    "Live Session:\n",
    "Build a class def for a simple math calculator \n",
    "    -it should support adding, subtracting, multiplying and dividing two numbers\n",
    "    -it should have a 10 answer history\n",
    "'''"
   ]
  },
  {
   "cell_type": "code",
   "execution_count": null,
   "metadata": {},
   "outputs": [],
   "source": [
    "'''\n",
    "Build a class def for a bus route.  The class will be used to track busses on a route.\n",
    "    -How is this class similar to the airline flight class?\n",
    "    -What tools can we use to reduce duplication in code between the two classes?\n",
    "\n",
    "'''"
   ]
  }
 ],
 "metadata": {
  "kernelspec": {
   "display_name": "Python 3",
   "language": "python",
   "name": "python3"
  },
  "language_info": {
   "codemirror_mode": {
    "name": "ipython",
    "version": 3
   },
   "file_extension": ".py",
   "mimetype": "text/x-python",
   "name": "python",
   "nbconvert_exporter": "python",
   "pygments_lexer": "ipython3",
   "version": "3.6.5"
  }
 },
 "nbformat": 4,
 "nbformat_minor": 4
}
