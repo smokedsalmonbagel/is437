{
 "cells": [
  {
   "cell_type": "code",
   "execution_count": null,
   "metadata": {},
   "outputs": [],
   "source": []
  },
  {
   "cell_type": "code",
   "execution_count": null,
   "metadata": {},
   "outputs": [],
   "source": [
    "'''\n",
    "Day 1:\n",
    "-Live Session\n",
    "    -Attendance\n",
    "    -functions as black boxes, function diagram, unit tests, Error handling mini topic\n",
    "    -Do problems below with error handling\n",
    "    \n",
    "'''"
   ]
  },
  {
   "cell_type": "code",
   "execution_count": null,
   "metadata": {},
   "outputs": [],
   "source": []
  },
  {
   "cell_type": "code",
   "execution_count": null,
   "metadata": {},
   "outputs": [],
   "source": [
    "# write a function def for a function that takes an age in year and returns a number of seconds\n",
    "# What can go wrong?  \n",
    "# Error handling discussion points\n",
    "\n",
    "\n"
   ]
  },
  {
   "cell_type": "code",
   "execution_count": null,
   "metadata": {},
   "outputs": [],
   "source": [
    "# write a function def which takes a phone number in the format 888-888-8888 and returns a list of\n",
    "#    2 strings containing the number and area code"
   ]
  },
  {
   "cell_type": "code",
   "execution_count": null,
   "metadata": {},
   "outputs": [],
   "source": [
    "#Use your function from above to convert the following list of numbers:\n",
    "ph = ['888-888-8888']"
   ]
  },
  {
   "cell_type": "code",
   "execution_count": null,
   "metadata": {},
   "outputs": [],
   "source": [
    "'''\n",
    "Day 2:\n",
    "Live Session \n",
    "    -do / discuss the problems below\n",
    "    -> these focus on some of the tasks we will need to complete in our framework\n",
    "\n",
    "'''"
   ]
  },
  {
   "cell_type": "code",
   "execution_count": null,
   "metadata": {},
   "outputs": [],
   "source": [
    "#Create a function which takes a string of fieldnames seperated by commas\n",
    "#    and returns a list of strings.  What are some good unit tests? "
   ]
  },
  {
   "cell_type": "code",
   "execution_count": null,
   "metadata": {},
   "outputs": [],
   "source": [
    "#Create a function which takes a list of fieldnames and tablename and returns a SQL \n",
    "#    insert statement for those fields."
   ]
  },
  {
   "cell_type": "code",
   "execution_count": null,
   "metadata": {},
   "outputs": [],
   "source": [
    "#Create a function which takes a list of fieldnames and tablename and returns a SQL \n",
    "#    insert statement for those fields UNLESS the field name is 'id'"
   ]
  },
  {
   "cell_type": "code",
   "execution_count": null,
   "metadata": {},
   "outputs": [],
   "source": [
    "\n",
    "#Create a function which returns a select select statement sql string.  It should include a WHERE condition .\n",
    "# What are the args we need here?"
   ]
  },
  {
   "cell_type": "code",
   "execution_count": null,
   "metadata": {},
   "outputs": [],
   "source": [
    "#Create a function which returns a delete sql query.  It should delete one item based on its primary key.\n",
    "# What are the args we need here?"
   ]
  }
 ],
 "metadata": {
  "kernelspec": {
   "display_name": "Python 3",
   "language": "python",
   "name": "python3"
  },
  "language_info": {
   "codemirror_mode": {
    "name": "ipython",
    "version": 3
   },
   "file_extension": ".py",
   "mimetype": "text/x-python",
   "name": "python",
   "nbconvert_exporter": "python",
   "pygments_lexer": "ipython3",
   "version": "3.6.5"
  }
 },
 "nbformat": 4,
 "nbformat_minor": 4
}
