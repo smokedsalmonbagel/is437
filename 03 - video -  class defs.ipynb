{
 "cells": [
  {
   "cell_type": "code",
   "execution_count": null,
   "metadata": {},
   "outputs": [],
   "source": [
    "'''\n",
    "Video:\n",
    "-How to write a class def, instance, methods, properties, inside/outside, class scope, function scope\n",
    "\n",
    "\n",
    "\n",
    "'''"
   ]
  },
  {
   "cell_type": "code",
   "execution_count": 11,
   "metadata": {},
   "outputs": [],
   "source": [
    "class courseForm:\n",
    "    def __init__(self,student_id):\n",
    "        self.student_id = student_id\n",
    "        self.courseSubject = ''\n",
    "        self.courseNumber = ''\n",
    "        self.program = ''\n",
    "    def selectCourse(self,course):\n",
    "        self.courseSubject = course[0:2]\n",
    "        self.courseNumber = course[2:]\n",
    "        if self.courseSubject.lower() == 'is':\n",
    "            self.program = 'bida'\n",
    "    def showEnrollment(self):\n",
    "        return 'Student# ' + self.student_id + ' ' +self.courseSubject.upper() + '-' + self.courseNumber \n",
    "    "
   ]
  },
  {
   "cell_type": "code",
   "execution_count": 14,
   "metadata": {},
   "outputs": [
    {
     "name": "stdout",
     "output_type": "stream",
     "text": [
      "00112233\n",
      "Student# 00112233 IA-626\n",
      "Student# 00112244 IA-628\n"
     ]
    }
   ],
   "source": [
    "cf = courseForm('00112233')\n",
    "print(cf.student_id)\n",
    "cf.selectCourse('ia626')\n",
    "print(cf.showEnrollment())\n",
    "\n",
    "cf2 = courseForm('00112244')\n",
    "cf2.selectCourse('ia628')\n",
    "print(cf2.showEnrollment())"
   ]
  },
  {
   "cell_type": "code",
   "execution_count": 13,
   "metadata": {},
   "outputs": [
    {
     "name": "stdout",
     "output_type": "stream",
     "text": [
      "626\n"
     ]
    }
   ],
   "source": [
    "cf = courseForm('00112233')\n",
    "cf.selectCourse('ia626')\n",
    "print(cf.courseNumber)"
   ]
  },
  {
   "cell_type": "code",
   "execution_count": null,
   "metadata": {},
   "outputs": [],
   "source": []
  },
  {
   "cell_type": "code",
   "execution_count": null,
   "metadata": {
    "jupyter": {
     "source_hidden": true
    }
   },
   "outputs": [],
   "source": [
    "'''\n",
    "Day 1\n",
    "-Lecture -  - write a class def for a airline ticket.  Class instance, unt tests\n",
    "-Driver - write a class def for a college course\n",
    "'''"
   ]
  },
  {
   "cell_type": "code",
   "execution_count": null,
   "metadata": {
    "jupyter": {
     "source_hidden": true
    }
   },
   "outputs": [],
   "source": [
    "'''\n",
    "Assignment - Write a class def for a student.  The contructor should take 3 args - fname,lname and uid \n",
    "\n",
    "...with the following properties\n",
    "-first name\n",
    "-last name\n",
    "-email\n",
    "-phone\n",
    "-password\n",
    "-uid \n",
    "\n",
    "...and the following methods\n",
    "-setPassword() - password must be longer than 3 chars\n",
    "-setEmail() - email much contain @ and .\n",
    "-showInfo() - should return a string with select student info formatted as shown below:\n",
    "\n",
    "Make sure your class def passes this unit test:\n",
    "'''\n",
    "\n",
    "s = student('Jim',\"Smith\")\n",
    "s.setPassword(\"123\") #should print error\n",
    "s.setPassword(\"1234\") \n",
    "s.setEmail(\"\") #should print error\n",
    "s.setEmail('a@a.com')\n",
    "s.showInfo()\n",
    "\n",
    "'''\n",
    "{student.lname},{student.fname}   {student.uid}\n",
    "==============\n",
    "{student.email} \n",
    "{student.phone}\n",
    "'''\n",
    "\n"
   ]
  },
  {
   "cell_type": "code",
   "execution_count": null,
   "metadata": {
    "jupyter": {
     "source_hidden": true
    }
   },
   "outputs": [],
   "source": [
    "'''\n",
    "-Day 2\n",
    "-Lecure - data structures - properties as dictionaries, properties which are lists\n",
    "-Driver - refactor the airline flight class def to use collections.\n",
    "'''"
   ]
  }
 ],
 "metadata": {
  "kernelspec": {
   "display_name": "Python 3",
   "language": "python",
   "name": "python3"
  },
  "language_info": {
   "codemirror_mode": {
    "name": "ipython",
    "version": 3
   },
   "file_extension": ".py",
   "mimetype": "text/x-python",
   "name": "python",
   "nbconvert_exporter": "python",
   "pygments_lexer": "ipython3",
   "version": "3.6.5"
  }
 },
 "nbformat": 4,
 "nbformat_minor": 4
}
