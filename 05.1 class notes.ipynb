{
 "cells": [
  {
   "cell_type": "code",
   "execution_count": null,
   "metadata": {},
   "outputs": [],
   "source": [
    "'''\n",
    "Live Session:\n",
    "    frameworks and object-relational mappers, one class per table\n",
    "    \n",
    "    what DB operations will be typical?  Plan out the use cases for ecommerce example\n",
    "    \n",
    "    Moving on: create github account for next topic\n",
    "    \n",
    "    \n",
    "'''"
   ]
  },
  {
   "cell_type": "code",
   "execution_count": null,
   "metadata": {},
   "outputs": [],
   "source": [
    "'''\n",
    "Our example schema (a typical ecommerce schema):\n",
    "                                         products\n",
    "\n",
    "    orders         users           ┌────►id\n",
    "                                   │     name\n",
    "┌──►id          ┌─►id              │     price\n",
    "│   date        │  name            │\n",
    "│   total       │  email           │\n",
    "│   tax         │  password        │     line_items\n",
    "│ ┌─user_id     │                  │\n",
    "│ │             │                  │     id\n",
    "│ └─────────────┘                  └─────product_id\n",
    "│                                        quantity\n",
    "└────────────────────────────────────────order_id\n",
    "\n",
    "\n",
    "'''"
   ]
  },
  {
   "cell_type": "code",
   "execution_count": null,
   "metadata": {},
   "outputs": [],
   "source": [
    "'''\n",
    "Start building class defs for the classes above.  Goals:\n",
    "-limit duplicate code\n",
    "-baseObject for all database operatons\n",
    "-get_fields()\n",
    "- insert(),select_all()\n",
    "'''"
   ]
  }
 ],
 "metadata": {
  "kernelspec": {
   "display_name": "Python 3",
   "language": "python",
   "name": "python3"
  },
  "language_info": {
   "codemirror_mode": {
    "name": "ipython",
    "version": 3
   },
   "file_extension": ".py",
   "mimetype": "text/x-python",
   "name": "python",
   "nbconvert_exporter": "python",
   "pygments_lexer": "ipython3",
   "version": "3.6.5"
  }
 },
 "nbformat": 4,
 "nbformat_minor": 4
}
