{
 "cells": [
  {
   "cell_type": "code",
   "execution_count": null,
   "metadata": {},
   "outputs": [],
   "source": [
    "'''\n",
    "Day 1:\n",
    "-Live Session:\n",
    "    -connecting to mysql.clarksonmsda.org with phpmyadmin, DB architecture, using python to write SQL - goal, \n",
    "            a word on frameworks and object-relational mappers\n",
    "    -secrets file for database credentials\n",
    "'''"
   ]
  },
  {
   "cell_type": "code",
   "execution_count": null,
   "metadata": {},
   "outputs": [],
   "source": [
    "'''\n",
    "Connect to the class database and write a script which creates a table to hold csv data in sensors.csv.\n",
    "\n",
    "'''\n",
    "\n"
   ]
  },
  {
   "cell_type": "code",
   "execution_count": 1,
   "metadata": {},
   "outputs": [],
   "source": [
    "'''\n",
    "Create a script which inserts data from a list of lists shown below:\n",
    "\n",
    "'''\n",
    "\n",
    "data = [['2018-06-06T22:53:27.644814','56.3'\n",
    "'2018-06-06T22:54:29.714939','56.12'\n",
    "'2018-06-06T22:55:31.751806','56.12'\n",
    "'2018-06-06T22:56:33.832670','56.3']]"
   ]
  },
  {
   "cell_type": "code",
   "execution_count": null,
   "metadata": {},
   "outputs": [],
   "source": [
    "'''\n",
    "Modify the script above to insert the data from the sensors.csv file\n",
    "\n",
    "'''"
   ]
  },
  {
   "cell_type": "code",
   "execution_count": null,
   "metadata": {},
   "outputs": [],
   "source": [
    "'''\n",
    "Day 2:\n",
    "Live Session\n",
    "-Try to create a function which creates a table in mysql and inserts data into it.\n",
    "    -limitations of functions - no persistant data\n",
    "'''"
   ]
  },
  {
   "cell_type": "code",
   "execution_count": null,
   "metadata": {},
   "outputs": [],
   "source": [
    "'''\n",
    "Create a function which creates a table in a mysql database and inserts data from a file into it.\n",
    "'''"
   ]
  },
  {
   "cell_type": "code",
   "execution_count": null,
   "metadata": {},
   "outputs": [],
   "source": [
    "'''\n",
    "lecture: class vs. function for this task\n",
    "\n",
    "'''"
   ]
  }
 ],
 "metadata": {
  "kernelspec": {
   "display_name": "Python 3",
   "language": "python",
   "name": "python3"
  },
  "language_info": {
   "codemirror_mode": {
    "name": "ipython",
    "version": 3
   },
   "file_extension": ".py",
   "mimetype": "text/x-python",
   "name": "python",
   "nbconvert_exporter": "python",
   "pygments_lexer": "ipython3",
   "version": "3.6.5"
  }
 },
 "nbformat": 4,
 "nbformat_minor": 4
}
